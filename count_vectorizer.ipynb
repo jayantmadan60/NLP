{
 "cells": [
  {
   "cell_type": "markdown",
   "id": "9eba379d",
   "metadata": {},
   "source": [
    "# NLP _ SENTIMENT ANALYSIS ON PRODUCT REVIEWS\n",
    "\n",
    "\n",
    "This dataset contains several million reviews of Amazon products, with the reviews separated into two classes for positive and negative reviews. The two classes are evenly balanced here.\n",
    "\n",
    "This is a large dataset so I am considering a part of data otherwise it will be computationally exoensive, and the version that I am using here only has the text as a feature with no other metadata. This makes this an interesting dataset for doing NLP work. It is data written by users, so it's like that there are various typos, nonstandard spellings, and other variations that you may not find in curated sets of published text."
   ]
  },
  {
   "cell_type": "code",
   "execution_count": 1,
   "id": "98c80d2a",
   "metadata": {},
   "outputs": [],
   "source": [
    "# importing necessary modules\n",
    "import numpy as np\n",
    "import pandas as pd\n",
    "import matplotlib.pyplot as plt\n",
    "import seaborn as sns\n",
    "import re\n",
    "import string\n",
    "import nltk\n",
    "from nltk.corpus import stopwords\n",
    "from nltk.tokenize import word_tokenize \n",
    "from nltk.tokenize import WhitespaceTokenizer\n",
    "from nltk.tokenize import RegexpTokenizer\n",
    "from nltk.stem.porter import *\n",
    "from nltk.stem.wordnet import WordNetLemmatizer\n",
    "import warnings\n",
    "from spellchecker import SpellChecker\n",
    "from sklearn.feature_extraction.text import CountVectorizer\n",
    "warnings.filterwarnings('ignore')"
   ]
  },
  {
   "cell_type": "code",
   "execution_count": 2,
   "id": "b94ca786",
   "metadata": {},
   "outputs": [
    {
     "data": {
      "text/plain": [
       "['.ipynb_checkpoints', 'amazon_reviews.txt', 'snetiment_analysis.ipynb']"
      ]
     },
     "execution_count": 2,
     "metadata": {},
     "output_type": "execute_result"
    }
   ],
   "source": [
    "# checking the directory\n",
    "import os\n",
    "os.listdir()"
   ]
  },
  {
   "cell_type": "code",
   "execution_count": 3,
   "id": "ed8f0bf1",
   "metadata": {},
   "outputs": [],
   "source": [
    "# Dataset - https://www.kaggle.com/vijay420/sentiment-analysis/notebook\n",
    "\n",
    "# reading the dataset\n",
    "amazon_review = pd.read_csv('amazon_reviews.txt',delimiter='\\t',header=None, names=['review','sentiment'])\n",
    "df = pd.read_csv('amazon_reviews.txt',delimiter='\\t',header=None, names=['review','sentiment'])"
   ]
  },
  {
   "cell_type": "code",
   "execution_count": 4,
   "id": "8d8d9edb",
   "metadata": {},
   "outputs": [
    {
     "data": {
      "text/plain": [
       "0    500\n",
       "1    500\n",
       "Name: sentiment, dtype: int64"
      ]
     },
     "execution_count": 4,
     "metadata": {},
     "output_type": "execute_result"
    }
   ],
   "source": [
    "# counting types of sentiments\n",
    "df['sentiment'].value_counts()"
   ]
  },
  {
   "cell_type": "code",
   "execution_count": 5,
   "id": "45de48fd",
   "metadata": {},
   "outputs": [
    {
     "data": {
      "text/plain": [
       "'Tied to charger for conversations lasting more than 45 minutes.MAJOR PROBLEMS!!'"
      ]
     },
     "execution_count": 5,
     "metadata": {},
     "output_type": "execute_result"
    }
   ],
   "source": [
    "df['review'][3]"
   ]
  },
  {
   "cell_type": "markdown",
   "id": "5da9b041",
   "metadata": {},
   "source": [
    "## Data Preprocessing"
   ]
  },
  {
   "cell_type": "markdown",
   "id": "759fc25e",
   "metadata": {},
   "source": [
    "Pre processing the data as data contains many word with numberrs and special characters like ,',/ and numbers.If they are left as such,the vocabulary would count words like \"it.\",\",the\" and other stuffs like that.So it is better to remove the special characters from the data using regular expression and replace them with a empty space."
   ]
  },
  {
   "cell_type": "code",
   "execution_count": 6,
   "id": "120a8cfb",
   "metadata": {},
   "outputs": [],
   "source": [
    "# ----- convert(didn't,did not)\n",
    "# t = \"At eight o'clock on Thursday morning Arthur didn't feel 95very good.95French-Fries\"  \n",
    "# At eight o'clock on Thursday morning Arthur did not feel 95very good.95French-Fries\n",
    "\n",
    "# converting the apostrophy words in to the root words\n",
    "def decontracted(phrase):\n",
    "    # specific\n",
    "    phrase = re.sub(r\"won\\'t\", \"will not\", phrase)\n",
    "    phrase = re.sub(r\"can\\'t\", \"can not\", phrase)\n",
    "\n",
    "    # general\n",
    "    phrase = re.sub(r\"n\\'t\", \" not\", phrase)\n",
    "    phrase = re.sub(r\"\\'re\", \" are\", phrase)\n",
    "    phrase = re.sub(r\"\\'s\", \" is\", phrase)\n",
    "    phrase = re.sub(r\"\\'d\", \" would\", phrase)\n",
    "    phrase = re.sub(r\"\\'ll\", \" will\", phrase)\n",
    "    phrase = re.sub(r\"\\'t\", \" not\", phrase)\n",
    "    phrase = re.sub(r\"\\'ve\", \" have\", phrase)\n",
    "    phrase = re.sub(r\"\\'m\", \" am\", phrase)\n",
    "    return phrase"
   ]
  },
  {
   "cell_type": "code",
   "execution_count": 7,
   "id": "3be823c5",
   "metadata": {},
   "outputs": [],
   "source": [
    "# applying the decontracted function on the sentiments \n",
    "df['review'] = df['review'].apply(decontracted)"
   ]
  },
  {
   "cell_type": "code",
   "execution_count": 8,
   "id": "f1dcd9e7",
   "metadata": {},
   "outputs": [
    {
     "data": {
      "text/plain": [
       "'Tied to charger for conversations lasting more than 45 minutes.MAJOR PROBLEMS!!'"
      ]
     },
     "execution_count": 8,
     "metadata": {},
     "output_type": "execute_result"
    }
   ],
   "source": [
    "df['review'][3]"
   ]
  },
  {
   "cell_type": "code",
   "execution_count": 9,
   "id": "1fa9590b",
   "metadata": {},
   "outputs": [],
   "source": [
    "#remove words and digits like noon65, or 6.\n",
    "def rem_wor_dig(text):\n",
    "    output = ''.join(c for c in text if not c.isdigit())\n",
    "    return(output)"
   ]
  },
  {
   "cell_type": "code",
   "execution_count": 10,
   "id": "e59057f0",
   "metadata": {},
   "outputs": [],
   "source": [
    "df['review'] = df['review'].apply(rem_wor_dig)"
   ]
  },
  {
   "cell_type": "code",
   "execution_count": 11,
   "id": "da3b9763",
   "metadata": {},
   "outputs": [
    {
     "data": {
      "text/plain": [
       "'Tied to charger for conversations lasting more than  minutes.MAJOR PROBLEMS!!'"
      ]
     },
     "execution_count": 11,
     "metadata": {},
     "output_type": "execute_result"
    }
   ],
   "source": [
    "df['review'][3]"
   ]
  },
  {
   "cell_type": "code",
   "execution_count": 12,
   "id": "dfa3758c",
   "metadata": {},
   "outputs": [],
   "source": [
    "# removing puncuation\n",
    "def rem_punc(text):\n",
    "    tokenizer = RegexpTokenizer(r'\\w+')\n",
    "    tokens = tokenizer.tokenize(text)\n",
    "    return \" \".join(tokens)"
   ]
  },
  {
   "cell_type": "code",
   "execution_count": 13,
   "id": "b4bc8d4a",
   "metadata": {},
   "outputs": [],
   "source": [
    "df['review'] = df['review'].apply(rem_punc)"
   ]
  },
  {
   "cell_type": "code",
   "execution_count": 14,
   "id": "42e49427",
   "metadata": {},
   "outputs": [
    {
     "data": {
      "text/plain": [
       "'Tied to charger for conversations lasting more than minutes MAJOR PROBLEMS'"
      ]
     },
     "execution_count": 14,
     "metadata": {},
     "output_type": "execute_result"
    }
   ],
   "source": [
    "df['review'][3]"
   ]
  },
  {
   "cell_type": "code",
   "execution_count": 15,
   "id": "acb53ae8",
   "metadata": {},
   "outputs": [],
   "source": [
    "df['review'] = df['review'].apply(str. lower)"
   ]
  },
  {
   "cell_type": "code",
   "execution_count": 16,
   "id": "05937b67",
   "metadata": {},
   "outputs": [],
   "source": [
    "# creating a custom stopwords list so as to maintain the negative reviews\n",
    "stopwords = ['from', \"she's\", 'theirs', 'be', 'won', 'shouldn', 'should', 'or', 'were', 'she', \"shouldn't\", 'until', 'himself', 'd', 'at', 'than', 'aren', \"doesn't\", 've', 'o', 'mustn', \"you've\", 'ours', 'wasn', 'but', 'once', 'there', \"didn't\", 'we', 'has', 'am', 'of', 'own', \"you'd\", 'in', 'he', \"shan't\", \"mightn't\", \"don't\", 'having', 'with', 'my', 'its', 'had', 'y', 'yourselves', 'didn', 'your', 'each', \"haven't\", 'yourself', 'and', 'is', 'nor', 'who', 'whom', 'couldn', 'this', 'mightn', 'shan', 'have', 'for', 'her', 'hers', 'other', 'during', 'herself', 'themselves', 'here', 'them', 's', 'hadn', \"it's\", 'so', \"mustn't\", 'did', 'about', 'after', \"hadn't\", 'haven', \"you'll\", 'can', 'just', 'isn', 'the', 'our', 'by', 'further', 'do', 'on', 're', 'doing', \"aren't\", 'off', 'some', 'an', 'only', 'over', 'me', 'while', 'will', 'too', 'i', 'under', 'more', \"you're\", 'their', 'you', 'as', 'ourselves', 'both', 'where', 'then', \"hasn't\", \"weren't\", \"won't\", 'before', 'are', \"wouldn't\", 'needn', 'because', 'doesn', 'into', 'that', 'between', \"wasn't\", 'it', 'him', 'up', 'above', 'his', 'these', 'm', 'been', \"couldn't\", 'to', 'those', 'same', 'don', 'out', 'ma', 'below', 'being', 'such', 'what', 'wouldn', \"that'll\", 'itself', 'hasn', \"isn't\", 'again', 'through', 'very', 'll', 'which', 'when', \"should've\", 'any', 't', 'how', 'all', \"needn't\", 'yours', 'weren', 'myself', 'a', 'they', 'if', 'ain', 'does', 'was', 'now', 'most', 'why']"
   ]
  },
  {
   "cell_type": "code",
   "execution_count": 17,
   "id": "c190400a",
   "metadata": {},
   "outputs": [],
   "source": [
    "# lemmantizing and removing stopwords from custom list\n",
    "lemmatizer = WordNetLemmatizer()\n",
    "def remove_stopwords(text):\n",
    "    text_tokens = word_tokenize(text)\n",
    "    tokens_without_sw = [lemmatizer.lemmatize(word) for word in text_tokens if not word in stopwords]\n",
    "    return(tokens_without_sw)"
   ]
  },
  {
   "cell_type": "code",
   "execution_count": 18,
   "id": "9d90b853",
   "metadata": {},
   "outputs": [],
   "source": [
    "df['review'] = df['review'].apply(remove_stopwords)"
   ]
  },
  {
   "cell_type": "code",
   "execution_count": 19,
   "id": "fc381b44",
   "metadata": {},
   "outputs": [
    {
     "data": {
      "text/plain": [
       "['tied', 'charger', 'conversation', 'lasting', 'minute', 'major', 'problem']"
      ]
     },
     "execution_count": 19,
     "metadata": {},
     "output_type": "execute_result"
    }
   ],
   "source": [
    "df['review'][3]"
   ]
  },
  {
   "cell_type": "code",
   "execution_count": 20,
   "id": "4d46d0e6",
   "metadata": {},
   "outputs": [],
   "source": [
    "def join_word(text):\n",
    "    s = ' '.join(word for word in text)\n",
    "    return(s)"
   ]
  },
  {
   "cell_type": "code",
   "execution_count": 21,
   "id": "d842aafd",
   "metadata": {},
   "outputs": [],
   "source": [
    "df['review'] = df['review'].apply(join_word)"
   ]
  },
  {
   "cell_type": "code",
   "execution_count": 22,
   "id": "5bdd14a9",
   "metadata": {},
   "outputs": [
    {
     "data": {
      "text/html": [
       "<div>\n",
       "<style scoped>\n",
       "    .dataframe tbody tr th:only-of-type {\n",
       "        vertical-align: middle;\n",
       "    }\n",
       "\n",
       "    .dataframe tbody tr th {\n",
       "        vertical-align: top;\n",
       "    }\n",
       "\n",
       "    .dataframe thead th {\n",
       "        text-align: right;\n",
       "    }\n",
       "</style>\n",
       "<table border=\"1\" class=\"dataframe\">\n",
       "  <thead>\n",
       "    <tr style=\"text-align: right;\">\n",
       "      <th></th>\n",
       "      <th>review</th>\n",
       "      <th>sentiment</th>\n",
       "    </tr>\n",
       "  </thead>\n",
       "  <tbody>\n",
       "    <tr>\n",
       "      <th>0</th>\n",
       "      <td>no way plug u unless go converter</td>\n",
       "      <td>0</td>\n",
       "    </tr>\n",
       "    <tr>\n",
       "      <th>1</th>\n",
       "      <td>good case excellent value</td>\n",
       "      <td>1</td>\n",
       "    </tr>\n",
       "    <tr>\n",
       "      <th>2</th>\n",
       "      <td>great jawbone</td>\n",
       "      <td>1</td>\n",
       "    </tr>\n",
       "    <tr>\n",
       "      <th>3</th>\n",
       "      <td>tied charger conversation lasting minute major...</td>\n",
       "      <td>0</td>\n",
       "    </tr>\n",
       "    <tr>\n",
       "      <th>4</th>\n",
       "      <td>mic great</td>\n",
       "      <td>1</td>\n",
       "    </tr>\n",
       "    <tr>\n",
       "      <th>...</th>\n",
       "      <td>...</td>\n",
       "      <td>...</td>\n",
       "    </tr>\n",
       "    <tr>\n",
       "      <th>995</th>\n",
       "      <td>screen get smudged easily touch ear face</td>\n",
       "      <td>0</td>\n",
       "    </tr>\n",
       "    <tr>\n",
       "      <th>996</th>\n",
       "      <td>piece junk lose call phone</td>\n",
       "      <td>0</td>\n",
       "    </tr>\n",
       "    <tr>\n",
       "      <th>997</th>\n",
       "      <td>item not match picture</td>\n",
       "      <td>0</td>\n",
       "    </tr>\n",
       "    <tr>\n",
       "      <th>998</th>\n",
       "      <td>thing disappoint infra red port irda</td>\n",
       "      <td>0</td>\n",
       "    </tr>\n",
       "    <tr>\n",
       "      <th>999</th>\n",
       "      <td>not answer call unit never worked</td>\n",
       "      <td>0</td>\n",
       "    </tr>\n",
       "  </tbody>\n",
       "</table>\n",
       "<p>1000 rows × 2 columns</p>\n",
       "</div>"
      ],
      "text/plain": [
       "                                                review  sentiment\n",
       "0                    no way plug u unless go converter          0\n",
       "1                            good case excellent value          1\n",
       "2                                        great jawbone          1\n",
       "3    tied charger conversation lasting minute major...          0\n",
       "4                                            mic great          1\n",
       "..                                                 ...        ...\n",
       "995           screen get smudged easily touch ear face          0\n",
       "996                         piece junk lose call phone          0\n",
       "997                             item not match picture          0\n",
       "998               thing disappoint infra red port irda          0\n",
       "999                  not answer call unit never worked          0\n",
       "\n",
       "[1000 rows x 2 columns]"
      ]
     },
     "execution_count": 22,
     "metadata": {},
     "output_type": "execute_result"
    }
   ],
   "source": [
    "df"
   ]
  },
  {
   "cell_type": "markdown",
   "id": "b92e80f3",
   "metadata": {},
   "source": [
    "## Count Vectorizer"
   ]
  },
  {
   "cell_type": "code",
   "execution_count": 23,
   "id": "f202e535",
   "metadata": {},
   "outputs": [
    {
     "name": "stdout",
     "output_type": "stream",
     "text": [
      "(1000, 1564)\n"
     ]
    }
   ],
   "source": [
    "# using bag of words model count vectorizer\n",
    "coun_vect = CountVectorizer()\n",
    "count_matrix = coun_vect.fit_transform(df['review'])\n",
    "count_array = count_matrix.toarray()\n",
    "X_countvectorizer = pd.DataFrame(data=count_array,columns = coun_vect.get_feature_names())\n",
    "print (X_countvectorizer.shape)"
   ]
  },
  {
   "cell_type": "code",
   "execution_count": 24,
   "id": "f4638db5",
   "metadata": {},
   "outputs": [],
   "source": [
    "y = df['sentiment']"
   ]
  },
  {
   "cell_type": "markdown",
   "id": "5f2ac265",
   "metadata": {},
   "source": [
    "## Splitting the data "
   ]
  },
  {
   "cell_type": "code",
   "execution_count": 25,
   "id": "31aab2ef",
   "metadata": {},
   "outputs": [],
   "source": [
    "from sklearn.model_selection import train_test_split\n",
    "X_train_cv,X_test_cv,y_train_cv,y_test_cv=train_test_split(X_countvectorizer,y,test_size=0.3,random_state=40,stratify=y)"
   ]
  },
  {
   "cell_type": "code",
   "execution_count": 27,
   "id": "99ebd1b4",
   "metadata": {},
   "outputs": [
    {
     "name": "stdout",
     "output_type": "stream",
     "text": [
      "(700, 1564) (300, 1564) (700,) (300,)\n"
     ]
    }
   ],
   "source": [
    "print(X_train_cv.shape,X_test_cv.shape,y_train_cv.shape,y_test_cv.shape)"
   ]
  },
  {
   "cell_type": "markdown",
   "id": "d3982442",
   "metadata": {},
   "source": [
    "Naive Bayes, SVM, Logistic Regression and LSTM"
   ]
  },
  {
   "cell_type": "markdown",
   "id": "df433d6d",
   "metadata": {},
   "source": [
    "## Training on Machine learning Algorithms\n",
    "### RANDOM FOREST"
   ]
  },
  {
   "cell_type": "code",
   "execution_count": 28,
   "id": "6edd632e",
   "metadata": {},
   "outputs": [
    {
     "name": "stdout",
     "output_type": "stream",
     "text": [
      "{'bootstrap': False, 'criterion': 'entropy', 'max_depth': 5, 'min_samples_leaf': 4, 'min_samples_split': 8, 'n_estimators': 100}\n",
      "0.7\n"
     ]
    }
   ],
   "source": [
    "# Random Forest Classifier\n",
    "from sklearn.model_selection import StratifiedKFold\n",
    "from sklearn.ensemble import RandomForestClassifier\n",
    "from sklearn.model_selection import GridSearchCV\n",
    "model_rf = RandomForestClassifier(random_state= 42)  \n",
    "\n",
    "scoring = {\"Recall\": 'recall', \"Accuracy\": 'accuracy'}\n",
    "\n",
    "cv = StratifiedKFold(n_splits= 10, shuffle=True, random_state=1)\n",
    "parameter = {\n",
    "             'n_estimators': [100,200],\n",
    "             'max_depth' : [4,5,6,7],\n",
    "             'criterion' :['gini', 'entropy'],\n",
    "             'min_samples_leaf': [3, 4, 5],\n",
    "             'min_samples_split': [8, 10, 12],\n",
    "             'bootstrap': [True, False] # boot straping method is used to build the tree rather than using whole dataset\n",
    "\n",
    "            }\n",
    "\n",
    "result_rf = GridSearchCV(estimator = model_rf, \n",
    "                         param_grid = parameter, \n",
    "                         cv = cv, \n",
    "                         scoring= scoring,\n",
    "                         refit=\"Recall\", #refits with the parameter setting that has the best cross-validated score.\n",
    "                         n_jobs = -1, #means using all processors\n",
    "                         return_train_score =False # to get insights on how different parameter settings impact the overfitting/underfitting trade-off.\n",
    "                        )\n",
    "\n",
    "result_rf.fit(X_train_cv, y_train_cv)\n",
    "print(result_rf.best_params_)\n",
    "print(result_rf.best_score_)"
   ]
  },
  {
   "cell_type": "code",
   "execution_count": 29,
   "id": "c86ee280",
   "metadata": {},
   "outputs": [],
   "source": [
    "y_pred_rf = result_rf.predict(X_test_cv)"
   ]
  },
  {
   "cell_type": "code",
   "execution_count": 31,
   "id": "4c9509ae",
   "metadata": {},
   "outputs": [
    {
     "data": {
      "text/plain": [
       "0.7380952380952381"
      ]
     },
     "execution_count": 31,
     "metadata": {},
     "output_type": "execute_result"
    }
   ],
   "source": [
    "from sklearn.metrics import fbeta_score\n",
    "fb_rf = fbeta_score(y_test_cv, y_pred_rf, beta=1)\n",
    "fb_rf"
   ]
  },
  {
   "cell_type": "code",
   "execution_count": 32,
   "id": "fe87e89d",
   "metadata": {},
   "outputs": [
    {
     "data": {
      "image/png": "[encoded data removed]",
      "text/plain": [
       "<Figure size 432x288 with 2 Axes>"
      ]
     },
     "metadata": {
      "needs_background": "light"
     },
     "output_type": "display_data"
    }
   ],
   "source": [
    "from sklearn.metrics import confusion_matrix\n",
    "cm_rf = confusion_matrix(y_test_cv, y_pred_rf)\n",
    "plt.title('Heatmap of Confusion RF', fontsize = 15)\n",
    "sns.heatmap(cm_rf, annot = True)\n",
    "plt.show()"
   ]
  },
  {
   "cell_type": "code",
   "execution_count": 34,
   "id": "06f749ca",
   "metadata": {},
   "outputs": [],
   "source": [
    "def print_confusion_matrix(y_true, y_pred):\n",
    "    cm = confusion_matrix(y_true, y_pred)\n",
    "    print('True positive = ', cm[0][0])\n",
    "    print('False positive = ', cm[1][0])\n",
    "    print('False negative = ', cm[0][1])\n",
    "    print('True negative = ', cm[1][1])"
   ]
  },
  {
   "cell_type": "code",
   "execution_count": 35,
   "id": "b8c158cd",
   "metadata": {},
   "outputs": [
    {
     "name": "stdout",
     "output_type": "stream",
     "text": [
      "True positive =  141\n",
      "False positive =  57\n",
      "False negative =  9\n",
      "True negative =  93\n"
     ]
    }
   ],
   "source": [
    "print_confusion_matrix(y_test_cv, y_pred_rf)"
   ]
  },
  {
   "cell_type": "code",
   "execution_count": 68,
   "id": "4a9a9097",
   "metadata": {},
   "outputs": [
    {
     "data": {
      "image/png": "[encoded data removed]",
      "text/plain": [
       "<Figure size 432x288 with 1 Axes>"
      ]
     },
     "metadata": {
      "needs_background": "light"
     },
     "output_type": "display_data"
    }
   ],
   "source": [
    "from sklearn.metrics import roc_curve,roc_auc_score\n",
    "fpr, tpr, _ = roc_curve(y_test_cv, y_pred_proba_rf)\n",
    "auc = roc_auc_score(y_test_cv, y_pred_proba)\n",
    "plt.plot(fpr,tpr,label=\"data 1, auc=\"+str(auc))\n",
    "plt.legend(loc=4)\n",
    "plt.show()"
   ]
  },
  {
   "cell_type": "code",
   "execution_count": 69,
   "id": "1ff24107",
   "metadata": {},
   "outputs": [
    {
     "name": "stdout",
     "output_type": "stream",
     "text": [
      "True positive =  141\n",
      "False positive =  57\n",
      "False negative =  9\n",
      "True negative =  93\n"
     ]
    }
   ],
   "source": [
    "y_pred_proba_rf = (result_rf.predict_proba(X_test_cv)[:,1] >= 0.5).astype(bool)\n",
    "\n",
    "\n",
    "cm = confusion_matrix(y_test_cv, y_pred_proba)\n",
    "print('True positive = ', cm[0][0])\n",
    "print('False positive = ', cm[1][0])\n",
    "print('False negative = ', cm[0][1])\n",
    "print('True negative = ', cm[1][1])"
   ]
  },
  {
   "cell_type": "markdown",
   "id": "eae0d0b8",
   "metadata": {},
   "source": [
    "### NAIVE BAYES"
   ]
  },
  {
   "cell_type": "code",
   "execution_count": 39,
   "id": "1d34b8ec",
   "metadata": {},
   "outputs": [],
   "source": [
    "X_train_nb,X_test_nb,y_train_nb,y_test_nb=train_test_split(X_countvectorizer,y,test_size=0.3,random_state=40,stratify=y)"
   ]
  },
  {
   "cell_type": "code",
   "execution_count": 70,
   "id": "da093ea8",
   "metadata": {},
   "outputs": [
    {
     "data": {
      "text/plain": [
       "GaussianNB()"
      ]
     },
     "execution_count": 70,
     "metadata": {},
     "output_type": "execute_result"
    }
   ],
   "source": [
    "from sklearn.naive_bayes import GaussianNB\n",
    "\n",
    "#Create a Gaussian Classifier\n",
    "model_nb = GaussianNB()\n",
    "\n",
    "# Train the model using the training sets\n",
    "model_nb.fit(X_train_nb,y_train_nb)"
   ]
  },
  {
   "cell_type": "code",
   "execution_count": 71,
   "id": "4d90fc69",
   "metadata": {},
   "outputs": [],
   "source": [
    "y_pred_nb = model_nb.predict(X_test_cv)"
   ]
  },
  {
   "cell_type": "code",
   "execution_count": 72,
   "id": "bc780911",
   "metadata": {},
   "outputs": [
    {
     "data": {
      "text/plain": [
       "0.7411764705882353"
      ]
     },
     "execution_count": 72,
     "metadata": {},
     "output_type": "execute_result"
    }
   ],
   "source": [
    "fb_rf = fbeta_score(y_test_cv, y_pred_nb, beta=1)\n",
    "fb_rf"
   ]
  },
  {
   "cell_type": "code",
   "execution_count": 73,
   "id": "60116911",
   "metadata": {},
   "outputs": [
    {
     "name": "stdout",
     "output_type": "stream",
     "text": [
      "True positive =  86\n",
      "False positive =  24\n",
      "False negative =  64\n",
      "True negative =  126\n",
      "None\n"
     ]
    },
    {
     "data": {
      "image/png": "[encoded data removed]",
      "text/plain": [
       "<Figure size 432x288 with 2 Axes>"
      ]
     },
     "metadata": {
      "needs_background": "light"
     },
     "output_type": "display_data"
    }
   ],
   "source": [
    "print(print_confusion_matrix(y_test_cv, y_pred_nb))\n",
    "\n",
    "cm_rf = confusion_matrix(y_test_cv, y_pred_nb)\n",
    "plt.title('Heatmap of Confusion RF', fontsize = 15)\n",
    "sns.heatmap(cm_rf, annot = True)\n",
    "plt.show()"
   ]
  },
  {
   "cell_type": "code",
   "execution_count": 76,
   "id": "0e77bcd5",
   "metadata": {},
   "outputs": [
    {
     "data": {
      "image/png": "[encoded data removed]",
      "text/plain": [
       "<Figure size 432x288 with 1 Axes>"
      ]
     },
     "metadata": {
      "needs_background": "light"
     },
     "output_type": "display_data"
    }
   ],
   "source": [
    "fpr, tpr, _ = roc_curve(y_test_cv, y_pred_nb)\n",
    "auc = roc_auc_score(y_test_cv, y_pred_nb)\n",
    "plt.plot(fpr,tpr,label=\"data 1, auc=\"+str(auc))\n",
    "plt.legend(loc=4)\n",
    "plt.show()"
   ]
  },
  {
   "cell_type": "markdown",
   "id": "6f4d2b30",
   "metadata": {},
   "source": [
    "### SVC"
   ]
  },
  {
   "cell_type": "code",
   "execution_count": 81,
   "id": "84cb180e",
   "metadata": {},
   "outputs": [],
   "source": [
    "from sklearn.svm import SVC\n",
    "model_svm = SVC(random_state = 42)"
   ]
  },
  {
   "cell_type": "code",
   "execution_count": 87,
   "id": "bf559d56",
   "metadata": {},
   "outputs": [
    {
     "name": "stdout",
     "output_type": "stream",
     "text": [
      "{'C': 100, 'gamma': 0.1, 'kernel': 'rbf'}\n",
      "0.8\n"
     ]
    }
   ],
   "source": [
    "from sklearn.model_selection import GridSearchCV\n",
    "from sklearn.metrics import accuracy_score\n",
    "parameters = [{'C': [1, 10, 100, 1000], 'kernel': ['linear']},\n",
    "              {'C': [1, 10, 100, 1000], 'kernel': ['rbf'], 'gamma': [0.1, 0.2, 0.3, 0.4, 0.5, 0.6, 0.7, 0.8, 0.9]}]\n",
    "result_svm = GridSearchCV(estimator = model_svm,\n",
    "                           param_grid = parameters,\n",
    "                           scoring = 'accuracy',\n",
    "                           cv = 10,\n",
    "                           n_jobs = -1)\n",
    "result_svm.fit(X_train_cv, y_train_cv)\n",
    "\n",
    "print(result_svm.best_params_)\n",
    "print(result_svm.best_score_)"
   ]
  },
  {
   "cell_type": "code",
   "execution_count": 88,
   "id": "2c27f222",
   "metadata": {},
   "outputs": [],
   "source": [
    "y_pred_svm = result_svm.predict(X_test_cv)"
   ]
  },
  {
   "cell_type": "code",
   "execution_count": 89,
   "id": "77ff08fc",
   "metadata": {},
   "outputs": [
    {
     "data": {
      "text/plain": [
       "0.8137931034482757"
      ]
     },
     "execution_count": 89,
     "metadata": {},
     "output_type": "execute_result"
    }
   ],
   "source": [
    "fb_rf = fbeta_score(y_test_cv, y_pred_svm, beta=1)\n",
    "fb_rf"
   ]
  },
  {
   "cell_type": "code",
   "execution_count": 90,
   "id": "ea86e2ee",
   "metadata": {},
   "outputs": [
    {
     "data": {
      "image/png": "[encoded data removed]",
      "text/plain": [
       "<Figure size 432x288 with 2 Axes>"
      ]
     },
     "metadata": {
      "needs_background": "light"
     },
     "output_type": "display_data"
    }
   ],
   "source": [
    "cm_rf = confusion_matrix(y_test_cv, y_pred_svm)\n",
    "plt.title('Heatmap of Confusion RF', fontsize = 15)\n",
    "sns.heatmap(cm_rf, annot = True)\n",
    "plt.show()"
   ]
  },
  {
   "cell_type": "code",
   "execution_count": 91,
   "id": "52d8b9c6",
   "metadata": {},
   "outputs": [
    {
     "name": "stdout",
     "output_type": "stream",
     "text": [
      "True positive =  128\n",
      "False positive =  32\n",
      "False negative =  22\n",
      "True negative =  118\n"
     ]
    }
   ],
   "source": [
    "print_confusion_matrix(y_test_cv, y_pred_svm)"
   ]
  },
  {
   "cell_type": "code",
   "execution_count": 93,
   "id": "0becfe06",
   "metadata": {},
   "outputs": [
    {
     "data": {
      "image/png": "[encoded data removed]",
      "text/plain": [
       "<Figure size 432x288 with 1 Axes>"
      ]
     },
     "metadata": {
      "needs_background": "light"
     },
     "output_type": "display_data"
    }
   ],
   "source": [
    "from sklearn.metrics import roc_curve,roc_auc_score\n",
    "fpr, tpr, _ = roc_curve(y_test_cv, y_pred_svm)\n",
    "auc = roc_auc_score(y_test_cv, y_pred_svm)\n",
    "plt.plot(fpr,tpr,label=\"data 1, auc=\"+str(auc))\n",
    "plt.legend(loc=4)\n",
    "plt.show()"
   ]
  },
  {
   "cell_type": "markdown",
   "id": "7b48db8a",
   "metadata": {},
   "source": [
    "### Decision tree classifier"
   ]
  },
  {
   "cell_type": "code",
   "execution_count": 98,
   "id": "f2fb5383",
   "metadata": {},
   "outputs": [
    {
     "name": "stdout",
     "output_type": "stream",
     "text": [
      "Tuned Decision Tree Parameters: {'criterion': 'entropy', 'max_depth': None, 'max_features': 5, 'min_samples_leaf': 1}\n",
      "Best score is 0.7042857142857144\n"
     ]
    }
   ],
   "source": [
    "# Necessary imports\n",
    "from scipy.stats import randint\n",
    "from sklearn.tree import DecisionTreeClassifier\n",
    "  \n",
    "# Creating the hyperparameter grid \n",
    "param_dist = {\"max_depth\": [3, None],\n",
    "              \"max_features\": [1,2,3,4,5,6],\n",
    "              \"min_samples_leaf\": [1,2,3,4,5,6],\n",
    "              \"criterion\": [\"gini\", \"entropy\"]}\n",
    "  \n",
    "# Instantiating Decision Tree classifier\n",
    "model_DT = DecisionTreeClassifier()\n",
    "  \n",
    "# Instantiating RandomizedSearchCV object\n",
    "result_dt = GridSearchCV(model_DT, param_dist, cv = 5)\n",
    "  \n",
    "result_dt.fit(X_train_cv, y_train_cv)\n",
    "  \n",
    "# Print the tuned parameters and score\n",
    "print(\"Tuned Decision Tree Parameters: {}\".format(result_dt.best_params_))\n",
    "print(\"Best score is {}\".format(result_dt.best_score_))"
   ]
  },
  {
   "cell_type": "code",
   "execution_count": 99,
   "id": "ce1dacad",
   "metadata": {},
   "outputs": [],
   "source": [
    "y_pred_dt = result_dt.predict(X_test_cv)"
   ]
  },
  {
   "cell_type": "code",
   "execution_count": 100,
   "id": "cb38ba48",
   "metadata": {},
   "outputs": [
    {
     "data": {
      "text/plain": [
       "0.7098765432098766"
      ]
     },
     "execution_count": 100,
     "metadata": {},
     "output_type": "execute_result"
    }
   ],
   "source": [
    "fb_rf = fbeta_score(y_test_cv, y_pred_dt, beta=1)\n",
    "fb_rf"
   ]
  },
  {
   "cell_type": "code",
   "execution_count": 101,
   "id": "2a8ffaa2",
   "metadata": {},
   "outputs": [
    {
     "data": {
      "image/png": "[encoded data removed]",
      "text/plain": [
       "<Figure size 432x288 with 2 Axes>"
      ]
     },
     "metadata": {
      "needs_background": "light"
     },
     "output_type": "display_data"
    }
   ],
   "source": [
    "cm_rf = confusion_matrix(y_test_cv, y_pred_dt)\n",
    "plt.title('Heatmap of Confusion RF', fontsize = 15)\n",
    "sns.heatmap(cm_rf, annot = True)\n",
    "plt.show()"
   ]
  },
  {
   "cell_type": "code",
   "execution_count": 102,
   "id": "44a9e75c",
   "metadata": {},
   "outputs": [
    {
     "name": "stdout",
     "output_type": "stream",
     "text": [
      "True positive =  91\n",
      "False positive =  35\n",
      "False negative =  59\n",
      "True negative =  115\n"
     ]
    }
   ],
   "source": [
    "print_confusion_matrix(y_test_cv, y_pred_dt)"
   ]
  },
  {
   "cell_type": "code",
   "execution_count": 103,
   "id": "6fefa921",
   "metadata": {},
   "outputs": [
    {
     "data": {
      "image/png": "[encoded data removed]",
      "text/plain": [
       "<Figure size 432x288 with 1 Axes>"
      ]
     },
     "metadata": {
      "needs_background": "light"
     },
     "output_type": "display_data"
    }
   ],
   "source": [
    "from sklearn.metrics import roc_curve,roc_auc_score\n",
    "fpr, tpr, _ = roc_curve(y_test_cv, y_pred_dt)\n",
    "auc = roc_auc_score(y_test_cv, y_pred_dt)\n",
    "plt.plot(fpr,tpr,label=\"data 1, auc=\"+str(auc))\n",
    "plt.legend(loc=4)\n",
    "plt.show()"
   ]
  },
  {
   "cell_type": "markdown",
   "id": "fd8a2570",
   "metadata": {},
   "source": [
    "### Logistic regression"
   ]
  },
  {
   "cell_type": "code",
   "execution_count": 105,
   "id": "856d616e",
   "metadata": {},
   "outputs": [],
   "source": [
    "from sklearn.linear_model import LogisticRegression\n",
    "model_lr = LogisticRegression()"
   ]
  },
  {
   "cell_type": "code",
   "execution_count": 111,
   "id": "3db09d6b",
   "metadata": {},
   "outputs": [
    {
     "name": "stdout",
     "output_type": "stream",
     "text": [
      "Best Params {'C': 0.3636490909090909, 'penalty': 'l2', 'solver': 'newton-cg'}\n",
      "Best Score 0.7971428571428572\n"
     ]
    }
   ],
   "source": [
    "cv = StratifiedKFold(n_splits= 10, shuffle=True, random_state=100)\n",
    "\n",
    "paramgrid = {\n",
    "    'penalty':['l1', 'l2', 'elasticnet'],        # l1 is Lasso, l2 is Ridge\n",
    "    'solver':['newton-cg', 'lbfgs', 'liblinear'],\n",
    "    'C': np.linspace(0.00002,1,100)\n",
    "    }\n",
    "\n",
    "result_lr = GridSearchCV(estimator=model_lr, param_grid=paramgrid, n_jobs=-1, cv=cv, scoring='accuracy')\n",
    "result_lr.fit(X_train_cv, y_train_cv)\n",
    "\n",
    "print (\"Best Params\", result_lr.best_params_)\n",
    "print (\"Best Score\", result_lr.best_score_)"
   ]
  },
  {
   "cell_type": "code",
   "execution_count": 112,
   "id": "81bc7b5c",
   "metadata": {},
   "outputs": [],
   "source": [
    "y_pred_lr = result_lr.predict(X_test_cv)"
   ]
  },
  {
   "cell_type": "code",
   "execution_count": 113,
   "id": "7a801fc8",
   "metadata": {},
   "outputs": [
    {
     "data": {
      "text/plain": [
       "0.7777777777777779"
      ]
     },
     "execution_count": 113,
     "metadata": {},
     "output_type": "execute_result"
    }
   ],
   "source": [
    "fb_rf = fbeta_score(y_test_cv, y_pred_lr, beta=1)\n",
    "fb_rf"
   ]
  },
  {
   "cell_type": "code",
   "execution_count": 114,
   "id": "da78df78",
   "metadata": {},
   "outputs": [
    {
     "data": {
      "image/png": "[encoded data removed]",
      "text/plain": [
       "<Figure size 432x288 with 2 Axes>"
      ]
     },
     "metadata": {
      "needs_background": "light"
     },
     "output_type": "display_data"
    }
   ],
   "source": [
    "cm_rf = confusion_matrix(y_test_cv, y_pred_lr)\n",
    "plt.title('Heatmap of Confusion RF', fontsize = 15)\n",
    "sns.heatmap(cm_rf, annot = True)\n",
    "plt.show()"
   ]
  },
  {
   "cell_type": "code",
   "execution_count": 115,
   "id": "13c51d22",
   "metadata": {},
   "outputs": [
    {
     "name": "stdout",
     "output_type": "stream",
     "text": [
      "True positive =  124\n",
      "False positive =  38\n",
      "False negative =  26\n",
      "True negative =  112\n"
     ]
    }
   ],
   "source": [
    "print_confusion_matrix(y_test_cv, y_pred_lr)"
   ]
  },
  {
   "cell_type": "code",
   "execution_count": 116,
   "id": "1d1f3631",
   "metadata": {},
   "outputs": [
    {
     "data": {
      "image/png": "[encoded data removed]",
      "text/plain": [
       "<Figure size 432x288 with 1 Axes>"
      ]
     },
     "metadata": {
      "needs_background": "light"
     },
     "output_type": "display_data"
    }
   ],
   "source": [
    "from sklearn.metrics import roc_curve,roc_auc_score\n",
    "fpr, tpr, _ = roc_curve(y_test_cv, y_pred_lr)\n",
    "auc = roc_auc_score(y_test_cv, y_pred_lr)\n",
    "plt.plot(fpr,tpr,label=\"data 1, auc=\"+str(auc))\n",
    "plt.legend(loc=4)\n",
    "plt.show()"
   ]
  },
  {
   "cell_type": "markdown",
   "id": "90ca0c95",
   "metadata": {},
   "source": [
    "### Results - Support Vector Classifier performed well in this case with 83% accuracy. This can be firthur improved using large dataset."
   ]
  }
 ],
 "metadata": {
  "kernelspec": {
   "display_name": "Python 3 (ipykernel)",
   "language": "python",
   "name": "python3"
  },
  "language_info": {
   "codemirror_mode": {
    "name": "ipython",
    "version": 3
   },
   "file_extension": ".py",
   "mimetype": "text/x-python",
   "name": "python",
   "nbconvert_exporter": "python",
   "pygments_lexer": "ipython3",
   "version": "3.8.5"
  }
 },
 "nbformat": 4,
 "nbformat_minor": 5
}
